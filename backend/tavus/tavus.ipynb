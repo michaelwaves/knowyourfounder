{
 "cells": [
  {
   "cell_type": "code",
   "execution_count": 8,
   "metadata": {},
   "outputs": [],
   "source": [
    "import requests \n",
    "from dotenv import load_dotenv\n",
    "import os"
   ]
  },
  {
   "cell_type": "code",
   "execution_count": 9,
   "metadata": {},
   "outputs": [],
   "source": [
    "#load env\n",
    "load_dotenv()\n",
    "API_KEY=os.getenv(\"TAVUS_API_KEY\")"
   ]
  },
  {
   "cell_type": "code",
   "execution_count": 13,
   "metadata": {},
   "outputs": [
    {
     "name": "stdout",
     "output_type": "stream",
     "text": [
      "{'status': 'completed', 'thumbnail_video_url': 'https://cdn.replica.tavus.io/584/1b1e25a6.mp4', 'training_progress': '100/100', 'model_name': 'phoenix-1', 'created_at': '2024-03-11T22:57:27.437Z', 'updated_at': '2024-08-14T07:58:41.528Z', 'replica_id': 'rcefb7292e', 'replica_name': 'Samantha (Phoenix-1, Deprecated)'}\n",
      "rcefb7292e\n"
     ]
    }
   ],
   "source": [
    "#list all models\n",
    "\n",
    "url = \"https://tavusapi.com/v2/replicas\"\n",
    "\n",
    "headers = {\"x-api-key\": API_KEY}\n",
    "\n",
    "response = requests.request(\"GET\", url, headers=headers)\n",
    "json_data = response.json()\n",
    "print(json_data[\"data\"][0])\n",
    "replica_id = json_data[\"data\"][0][\"replica_id\"]\n",
    "print(replica_id)"
   ]
  },
  {
   "cell_type": "code",
   "execution_count": 14,
   "metadata": {},
   "outputs": [
    {
     "name": "stdout",
     "output_type": "stream",
     "text": [
      "{\"status\":\"completed\",\"thumbnail_video_url\":\"https://cdn.replica.tavus.io/584/1b1e25a6.mp4\",\"training_progress\":\"100/100\",\"model_name\":\"phoenix-1\",\"created_at\":\"2024-03-11T22:57:27.437Z\",\"updated_at\":\"2024-08-14T07:58:41.528Z\",\"replica_id\":\"rcefb7292e\",\"replica_name\":\"Samantha (Phoenix-1, Deprecated)\"}\n",
      "\n"
     ]
    }
   ],
   "source": [
    "#get persona\n",
    "url = f\"https://tavusapi.com/v2/replicas/{replica_id}\"\n",
    "response = requests.request(\"GET\",url, headers=headers)\n",
    "print(response.text)"
   ]
  }
 ],
 "metadata": {
  "kernelspec": {
   "display_name": "hackathon",
   "language": "python",
   "name": "python3"
  },
  "language_info": {
   "codemirror_mode": {
    "name": "ipython",
    "version": 3
   },
   "file_extension": ".py",
   "mimetype": "text/x-python",
   "name": "python",
   "nbconvert_exporter": "python",
   "pygments_lexer": "ipython3",
   "version": "3.12.9"
  }
 },
 "nbformat": 4,
 "nbformat_minor": 2
}
